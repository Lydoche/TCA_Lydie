{
 "cells": [
  {
   "cell_type": "code",
   "execution_count": 133,
   "id": "9fefbb72",
   "metadata": {
    "scrolled": false
   },
   "outputs": [
    {
     "name": "stdout",
     "output_type": "stream",
     "text": [
      "Once deleted, variables cannot be recovered. Proceed (y/[n])? y\n"
     ]
    }
   ],
   "source": [
    "%reset"
   ]
  },
  {
   "cell_type": "code",
   "execution_count": 1,
   "id": "1a63a3ab",
   "metadata": {},
   "outputs": [],
   "source": [
    "import os\n",
    "os.chdir('/Users/ltran/Documents/TrueData29/CPC_ML_tutorial/')\n",
    "\n",
    "import numpy as np\n",
    "import pandas as pd\n",
    "import pickle\n",
    "from matplotlib import pyplot as plt\n",
    "import seaborn as sns\n",
    "import random\n",
    "import joypy\n",
    "from matplotlib import cm\n",
    "from datetime import datetime\n",
    "from scipy import stats\n",
    "\n",
    "from scipy.stats import fisher_exact\n",
    "from pcntoolkit.normative import estimate, predict, evaluate\n",
    "from pcntoolkit.util.utils import compute_MSLL, create_design_matrix\n",
    "from nm_utils import calibration_descriptives, remove_bad_subjects, load_2d\n",
    "from sklearn.model_selection import train_test_split\n",
    "\n",
    "# Set working directory\n",
    "root_dir = '/Users/ltran/Documents/TrueData0104/CPC_ML_tutorial/'\n",
    "out_dir = os.path.join(root_dir,'models','test')\n",
    "\n",
    "# create the output directory if it does not already exist\n",
    "os.makedirs(out_dir, exist_ok=True)"
   ]
  },
  {
   "cell_type": "markdown",
   "id": "23d89159",
   "metadata": {},
   "source": [
    "# Load TCA"
   ]
  },
  {
   "cell_type": "code",
   "execution_count": 2,
   "id": "92a96e96",
   "metadata": {},
   "outputs": [],
   "source": [
    "data_dir = '/Users/ltran/Documents/Data/'\n"
   ]
  },
  {
   "cell_type": "markdown",
   "id": "1cc50e36",
   "metadata": {},
   "source": [
    "## Compute BMI"
   ]
  },
  {
   "cell_type": "code",
   "execution_count": 3,
   "id": "fb28ee84",
   "metadata": {
    "scrolled": true
   },
   "outputs": [],
   "source": [
    "pheno = pd.read_csv(os.path.join(data_dir, 'TCA_vol/MRI_RDB_TCA_20221109_anonym.tsv'), sep = '\\t')"
   ]
  },
  {
   "cell_type": "code",
   "execution_count": 4,
   "id": "68d2dd40",
   "metadata": {},
   "outputs": [],
   "source": [
    "# Pheno with relapses\n",
    "pheno = pd.read_csv(os.path.join(data_dir, 'TCA_vol/MRI_RDB_TCA_20221207_anonym.tsv'), sep = '\\t')"
   ]
  },
  {
   "cell_type": "code",
   "execution_count": 5,
   "id": "e400d934",
   "metadata": {
    "scrolled": true
   },
   "outputs": [],
   "source": [
    "date_MRI = []\n",
    "for i in pheno['MRIDateOfMRI']:\n",
    "    if (type(i) == float):\n",
    "        date_MRI.append(i)\n",
    "    elif (type(i) == str):\n",
    "        date_MRI.append(datetime.strptime(i, '%d/%m/%Y'))\n",
    "        \n",
    "pheno['date_MRI'] = date_MRI\n",
    "\n",
    "\n",
    "pheno.loc[pheno.date_first_hospi == '02/22/2021', 'date_first_hospi'] = '22/02/2021'\n",
    "date_hospi = []\n",
    "for i in pheno['date_first_hospi']:\n",
    "    if (type(i) == float):\n",
    "        date_hospi.append(i)\n",
    "    elif (type(i) == str):\n",
    "        date_hospi.append(datetime.strptime(i, '%d/%m/%Y'))\n",
    "\n",
    "pheno['date_hospi'] = date_hospi\n",
    "\n"
   ]
  },
  {
   "cell_type": "code",
   "execution_count": 6,
   "id": "2cc2ce2f",
   "metadata": {},
   "outputs": [],
   "source": [
    "time_delta = (pheno['date_MRI'] - pheno['date_hospi'])"
   ]
  },
  {
   "cell_type": "code",
   "execution_count": 7,
   "id": "c4e1eba8",
   "metadata": {},
   "outputs": [],
   "source": [
    "tdl = []\n",
    "\n",
    "for i in time_delta:\n",
    "    tdl.append(float(i.days))\n",
    "    \n",
    "pheno['delta'] = tdl\n",
    "\n",
    "# pheno.loc[(pheno['date_MRI'] < pheno['date_hospi']), 'delta'] = np.nan"
   ]
  },
  {
   "cell_type": "code",
   "execution_count": 8,
   "id": "36e07e2f",
   "metadata": {},
   "outputs": [],
   "source": [
    "# pheno = pheno.dropna(subset = 'delta')"
   ]
  },
  {
   "cell_type": "code",
   "execution_count": 9,
   "id": "91084b20",
   "metadata": {},
   "outputs": [],
   "source": [
    "# pheno['ASD'] = 'TCA'\n",
    "# pheno.loc[pheno.delta > 44, 'ASD'] = 'q75_100'\n",
    "# pheno.loc[pheno.delta < 44, 'ASD'] = 'q75'\n",
    "# pheno.loc[pheno.delta < 14, 'ASD'] = 'q50'\n",
    "# pheno.loc[pheno.delta < 7, 'ASD'] = 'q25'\n",
    "# pheno.loc[pheno[pheno.TSA == 1].index, 'ASD'] = 'TCA_Autism'"
   ]
  },
  {
   "cell_type": "code",
   "execution_count": 10,
   "id": "fffb2c1b",
   "metadata": {},
   "outputs": [],
   "source": [
    "pheno['ASD'] = 'TCA'\n",
    "pheno.loc[pheno.delta < 14, 'ASD'] = 'TCA_ac'\n",
    "pheno.loc[pheno.delta >= 14, 'ASD'] = 'TCA_pr'\n",
    "# pheno.loc[pheno[pheno.TSA == 1].index, 'ASD'] = 'TCA_Autism'"
   ]
  },
  {
   "cell_type": "code",
   "execution_count": 11,
   "id": "558b4cf7",
   "metadata": {},
   "outputs": [],
   "source": [
    "pheno = pheno.dropna(subset = ['age_at_scan', 'Sex', 'machine'])"
   ]
  },
  {
   "cell_type": "code",
   "execution_count": 12,
   "id": "8127eedd",
   "metadata": {},
   "outputs": [],
   "source": [
    "pheno = pheno.drop_duplicates(subset = ['subject_id'])"
   ]
  },
  {
   "cell_type": "code",
   "execution_count": 13,
   "id": "e192dd64",
   "metadata": {},
   "outputs": [],
   "source": [
    "# Problème pour la taille (m -> cm)\n",
    "pheno['size_at_scan'] = pheno['size_at_scan'].replace(0.92, 92)"
   ]
  },
  {
   "cell_type": "code",
   "execution_count": 14,
   "id": "f447fdc4",
   "metadata": {},
   "outputs": [],
   "source": [
    "# Rajouter suffixe à participant_id\n",
    "pheno['participant_id'] = pheno['subject_id'].astype(str)+'_tca'"
   ]
  },
  {
   "cell_type": "code",
   "execution_count": 15,
   "id": "e7311d52",
   "metadata": {},
   "outputs": [],
   "source": [
    "S = []\n",
    "for i in pheno.subject_id:\n",
    "    S.append('sub-'+str(i).zfill(4))\n",
    "    \n",
    "pheno['Subject'] = S"
   ]
  },
  {
   "cell_type": "code",
   "execution_count": 16,
   "id": "f91d3f4c",
   "metadata": {},
   "outputs": [],
   "source": [
    "pheno.Subject = pheno.Subject+('_ses-0')+pheno.session_id.astype(str)"
   ]
  },
  {
   "cell_type": "code",
   "execution_count": 17,
   "id": "9528dba4",
   "metadata": {},
   "outputs": [],
   "source": [
    "pheno['Protocole'] = pheno['sequence_3DT1'].str.upper()"
   ]
  },
  {
   "cell_type": "markdown",
   "id": "4cb9252e",
   "metadata": {},
   "source": [
    "## Remove failed"
   ]
  },
  {
   "cell_type": "code",
   "execution_count": 18,
   "id": "de85211a",
   "metadata": {},
   "outputs": [],
   "source": [
    "list_fail = [8, 12, 23, 18, 152, 26, 88, 73, 112, 194, 136]"
   ]
  },
  {
   "cell_type": "code",
   "execution_count": 19,
   "id": "61682386",
   "metadata": {},
   "outputs": [],
   "source": [
    "pheno = pheno[~(pheno.subject_id.isin(list_fail))]"
   ]
  },
  {
   "cell_type": "markdown",
   "id": "c1311fd1",
   "metadata": {},
   "source": [
    "# Volume cortex"
   ]
  },
  {
   "cell_type": "code",
   "execution_count": 477,
   "id": "63eeef89",
   "metadata": {},
   "outputs": [],
   "source": [
    "# cv_iso = pd.read_csv(os.path.join(data_dir, 'TCA_vol/volumes-vlob-iso.txt'), sep = '\\t')\n",
    "# cv_tfe = pd.read_csv(os.path.join(data_dir, 'TCA_vol/volumes-vlob-tfe.txt'), sep = '\\t')\n",
    "# cv_iso.Subject = cv_iso.Subject.str.split('.', expand = True)[0]\n",
    "# cv_tfe.Subject = cv_tfe.Subject.str.split('.', expand = True)[0]\n",
    "# cv_iso['Protocole'] = 'ISO'\n",
    "# cv_tfe['Protocole'] = 'TFE'\n",
    "# cv = pd.concat([cv_iso, cv_tfe])\n",
    "# cv['participant_id'] = cv.Subject.str.split('_', expand = True)[0].str.split('-', expand = True)[1].str.lstrip('0')\n",
    "# cv['participant_id'] = cv['participant_id'].astype(str)+'_tca'"
   ]
  },
  {
   "cell_type": "markdown",
   "id": "aa18c0e3",
   "metadata": {},
   "source": [
    "# Merge Volume, Area, CT"
   ]
  },
  {
   "cell_type": "code",
   "execution_count": 20,
   "id": "ca0c5866",
   "metadata": {},
   "outputs": [],
   "source": [
    "# Load ISO volume\n",
    "vol_iso = pd.read_csv(os.path.join(data_dir, 'TCA_vol/volumes-fs-iso.txt'), sep = '\\t')\n",
    "\n",
    "# Load TFE volume\n",
    "vol_tfe = pd.read_csv(os.path.join(data_dir, 'TCA_vol/volumes-fs-tfe.txt'), sep = '\\t')"
   ]
  },
  {
   "cell_type": "code",
   "execution_count": 21,
   "id": "4cbfad1d",
   "metadata": {},
   "outputs": [],
   "source": [
    "vol_iso['Protocole'] = 'ISO'\n",
    "vol_tfe['Protocole'] = 'TFE'"
   ]
  },
  {
   "cell_type": "code",
   "execution_count": 22,
   "id": "26c507c8",
   "metadata": {},
   "outputs": [],
   "source": [
    "# Merge volume ISO + TFE \n",
    "\n",
    "vol_tca = pd.concat([vol_tfe, vol_iso])"
   ]
  },
  {
   "cell_type": "code",
   "execution_count": 23,
   "id": "4eac9300",
   "metadata": {},
   "outputs": [],
   "source": [
    "lh_area_iso = pd.read_csv(os.path.join(data_dir, 'TCA_vol/fs-7.2.0-iso.lh.area.csv'), sep = '\\t') \n",
    "rh_area_iso = pd.read_csv(os.path.join(data_dir, 'TCA_vol/fs-7.2.0-iso.rh.area.csv'), sep = '\\t') \n",
    "\n",
    "\n",
    "lh_area_tfe = pd.read_csv(os.path.join(data_dir, 'TCA_vol/fs-7.2.0-tfe.lh.area.csv'), sep = '\\t') \n",
    "rh_area_tfe = pd.read_csv(os.path.join(data_dir, 'TCA_vol/fs-7.2.0-tfe.rh.area.csv'), sep = '\\t') \n",
    "\n",
    "area_iso = lh_area_iso.merge(rh_area_iso.rename(columns={'rh.aparc.area': 'lh.aparc.area'}), on ='lh.aparc.area')\n",
    "\n",
    "area_tfe = lh_area_tfe.merge(rh_area_tfe.rename(columns={'rh.aparc.area': 'lh.aparc.area'}), on ='lh.aparc.area')"
   ]
  },
  {
   "cell_type": "code",
   "execution_count": 24,
   "id": "b6f3f1b7",
   "metadata": {},
   "outputs": [],
   "source": [
    "area_iso['Protocole'] = 'ISO'\n",
    "area_tfe['Protocole'] = 'TFE'"
   ]
  },
  {
   "cell_type": "code",
   "execution_count": 25,
   "id": "45499174",
   "metadata": {},
   "outputs": [],
   "source": [
    "area = pd.concat([area_iso, area_tfe])\n",
    "area = area.rename(columns= {'lh.aparc.area' : 'Subject'})"
   ]
  },
  {
   "cell_type": "code",
   "execution_count": 26,
   "id": "a13c2302",
   "metadata": {},
   "outputs": [],
   "source": [
    "lh_ct_iso = pd.read_csv(os.path.join(data_dir, 'TCA_vol/fs-7.2.0-iso.lh.thickness.csv'), sep = '\\t') \n",
    "rh_ct_iso = pd.read_csv(os.path.join(data_dir, 'TCA_vol/fs-7.2.0-iso.rh.thickness.csv'), sep = '\\t') \n",
    "\n",
    "ct_iso = lh_ct_iso.merge(rh_ct_iso.rename(columns={'rh.aparc.thickness': 'lh.aparc.thickness'}), \n",
    "               on = 'lh.aparc.thickness')\n",
    "\n",
    "\n",
    "lh_ct_tfe = pd.read_csv(os.path.join(data_dir, 'TCA_vol/fs-7.2.0-tfe.lh.thickness.csv'), sep = '\\t') \n",
    "rh_ct_tfe = pd.read_csv(os.path.join(data_dir, 'TCA_vol/fs-7.2.0-tfe.rh.thickness.csv'), sep = '\\t') \n",
    "\n",
    "ct_tfe = lh_ct_tfe.merge(rh_ct_tfe.rename(columns={'rh.aparc.thickness': 'lh.aparc.thickness'}), \n",
    "               on = 'lh.aparc.thickness')\n",
    "\n",
    "ct_iso['Protocole'] = 'ISO'\n",
    "ct_tfe['Protocole'] = 'TFE'\n",
    "ct = pd.concat([ct_iso, ct_tfe])\n",
    "ct = ct.rename(columns= {'lh.aparc.thickness' : 'Subject'})"
   ]
  },
  {
   "cell_type": "code",
   "execution_count": 27,
   "id": "1a2b6a8b",
   "metadata": {},
   "outputs": [],
   "source": [
    "df_TCA = area.merge(vol_tca, on = ['Subject', 'Protocole']).merge(ct, on=['Subject','Protocole'])"
   ]
  },
  {
   "cell_type": "code",
   "execution_count": 28,
   "id": "16e9dc33",
   "metadata": {},
   "outputs": [],
   "source": [
    "l_pi = []\n",
    "for i in df_TCA['Subject']:\n",
    "    l_pi.append(int(i.split('-')[1].split('_')[0]))\n",
    "\n",
    "df_TCA['participant_id'] = l_pi"
   ]
  },
  {
   "cell_type": "code",
   "execution_count": 29,
   "id": "fb72da31",
   "metadata": {},
   "outputs": [],
   "source": [
    "df_TCA['participant_id'] = df_TCA['participant_id'].astype(str)+'_tca'"
   ]
  },
  {
   "cell_type": "code",
   "execution_count": 30,
   "id": "277ef32a",
   "metadata": {},
   "outputs": [],
   "source": [
    "# df_TCA = df_TCA.merge(cv, on = ['participant_id', 'Protocole'])"
   ]
  },
  {
   "cell_type": "code",
   "execution_count": 31,
   "id": "33e70bdc",
   "metadata": {},
   "outputs": [],
   "source": [
    "df_TCA = df_TCA.merge(pheno, on = ['participant_id', 'Protocole'])"
   ]
  },
  {
   "cell_type": "code",
   "execution_count": 32,
   "id": "296fe7cd",
   "metadata": {},
   "outputs": [],
   "source": [
    "df_TCA['sex'] = df_TCA['Sex'].replace({'Female' : 2, 'Male' : 1})"
   ]
  },
  {
   "cell_type": "code",
   "execution_count": 33,
   "id": "2ffb7b1b",
   "metadata": {
    "scrolled": true
   },
   "outputs": [],
   "source": [
    "# df_TCA = df_TCA.drop_duplicates(subset='participant_id')\n",
    "df_TCA = df_TCA.dropna(subset='Sex')"
   ]
  },
  {
   "cell_type": "code",
   "execution_count": 34,
   "id": "b85a72c9",
   "metadata": {},
   "outputs": [],
   "source": [
    "df_TCA.columns = df_TCA.columns.str.replace('-', '_')"
   ]
  },
  {
   "cell_type": "code",
   "execution_count": 35,
   "id": "dc2fcbe6",
   "metadata": {},
   "outputs": [],
   "source": [
    "# df_TCA = df_TCA[~(df_TCA['magnetic_field_strength'] == '3')]"
   ]
  },
  {
   "cell_type": "code",
   "execution_count": 36,
   "id": "c9af9f07",
   "metadata": {},
   "outputs": [],
   "source": [
    "df_TCA = df_TCA.drop_duplicates(subset='participant_id', keep = 'first')"
   ]
  },
  {
   "cell_type": "code",
   "execution_count": 37,
   "id": "05e647d4",
   "metadata": {},
   "outputs": [],
   "source": [
    "df_TCA['size_at_scan'] = df_TCA['size_at_scan'].replace(0.92, 92)"
   ]
  },
  {
   "cell_type": "code",
   "execution_count": 38,
   "id": "11b226ef",
   "metadata": {},
   "outputs": [],
   "source": [
    "df_TCA['Month'] = df_TCA['age_at_scan']*12"
   ]
  },
  {
   "cell_type": "code",
   "execution_count": 39,
   "id": "d71d9964",
   "metadata": {},
   "outputs": [],
   "source": [
    "df_TCA['scanner'] = df_TCA['manufacturer_model_name']"
   ]
  },
  {
   "cell_type": "code",
   "execution_count": 40,
   "id": "381fe99d",
   "metadata": {},
   "outputs": [],
   "source": [
    "df_TCA = df_TCA.rename(columns= {'3rd_Ventricle' : 'third_Ventricle',\n",
    "                       '4th_Ventricle' : 'fourth_Ventricle',\n",
    "                        '5th_Ventricle' : 'fifth_Ventricle'})"
   ]
  },
  {
   "cell_type": "markdown",
   "id": "bfec4648",
   "metadata": {},
   "source": [
    "### Export dataframe"
   ]
  },
  {
   "cell_type": "code",
   "execution_count": 41,
   "id": "bdec05ba",
   "metadata": {},
   "outputs": [],
   "source": [
    "df_TCA.to_csv(os.path.join(data_dir, 'Outputs/df_TCA.csv'), index = False)"
   ]
  },
  {
   "cell_type": "code",
   "execution_count": 42,
   "id": "218c9412",
   "metadata": {},
   "outputs": [],
   "source": [
    "df_TCA = df_TCA[~df_TCA.Subject_x.str.contains('069')]"
   ]
  },
  {
   "cell_type": "code",
   "execution_count": 43,
   "id": "5ff733b7",
   "metadata": {},
   "outputs": [],
   "source": [
    "df_TCA = df_TCA.rename(columns= {'weight_at_scan': 'patient_weight'})"
   ]
  },
  {
   "cell_type": "code",
   "execution_count": 44,
   "id": "500fd5ab",
   "metadata": {},
   "outputs": [],
   "source": [
    "df_TCA = df_TCA[(df_TCA.age_at_scan < 16) & (df_TCA.age_at_scan > 6)]"
   ]
  },
  {
   "cell_type": "code",
   "execution_count": 45,
   "id": "101fe7df",
   "metadata": {},
   "outputs": [],
   "source": [
    "df_TCA = df_TCA[df_TCA.machine != 'Ingenia_3T']"
   ]
  },
  {
   "cell_type": "code",
   "execution_count": 46,
   "id": "d59a6b95",
   "metadata": {},
   "outputs": [],
   "source": [
    "df_TCA.to_csv(os.path.join(data_dir, 'Outputs/df_TCA.csv'))"
   ]
  },
  {
   "cell_type": "code",
   "execution_count": 47,
   "id": "eb108fca",
   "metadata": {},
   "outputs": [],
   "source": [
    "df_TCA['ID'] = df_TCA.participant_id.str.split('_', expand = True)[0]"
   ]
  },
  {
   "cell_type": "markdown",
   "id": "94f335d0",
   "metadata": {},
   "source": [
    "________________"
   ]
  },
  {
   "cell_type": "markdown",
   "id": "1b7e9e28",
   "metadata": {},
   "source": [
    "# Load TSA"
   ]
  },
  {
   "cell_type": "markdown",
   "id": "36a57755",
   "metadata": {},
   "source": [
    "Load infos "
   ]
  },
  {
   "cell_type": "code",
   "execution_count": 48,
   "id": "7e874d65",
   "metadata": {},
   "outputs": [],
   "source": [
    "def is_duplicated(df, col):\n",
    "    return df[df.duplicated(subset = col, keep = False)]\n",
    "    "
   ]
  },
  {
   "cell_type": "code",
   "execution_count": 49,
   "id": "62f490d6",
   "metadata": {},
   "outputs": [],
   "source": [
    "infos_TSA = pd.read_csv(os.path.join(data_dir, 'TSA_vol/MRI_RDB_20220928_anonym.tsv'), sep = '\\t')"
   ]
  },
  {
   "cell_type": "code",
   "execution_count": 50,
   "id": "f42b4110",
   "metadata": {},
   "outputs": [],
   "source": [
    "infos_TSA['Subject'] = 'sub-'+infos_TSA['subject_id'].astype(str).str.zfill(4)+'_ses-0'+infos_TSA['session_id'].astype(str\n",
    "                                                                    )"
   ]
  },
  {
   "cell_type": "code",
   "execution_count": 51,
   "id": "06f95c88",
   "metadata": {},
   "outputs": [],
   "source": [
    "# Enleve les NA dans sex, ASD, age\n",
    "infos_TSA = infos_TSA.dropna(subset = ['Sex', 'age_at_scan', 'ASD'])\n",
    "infos_TSA = infos_TSA[~(infos_TSA.ASD == '?')]"
   ]
  },
  {
   "cell_type": "code",
   "execution_count": 52,
   "id": "ae92bf0f",
   "metadata": {},
   "outputs": [],
   "source": [
    "infos_TSA['sex'] = infos_TSA.Sex.replace({'Male' : 1, 'Female' : 2})"
   ]
  },
  {
   "cell_type": "code",
   "execution_count": 53,
   "id": "fedc2fe2",
   "metadata": {},
   "outputs": [],
   "source": [
    "infos_TSA.loc[(infos_TSA.Group == 'Relative') & (infos_TSA.ASD == 'No'), 'ASD'] = 'Relative'"
   ]
  },
  {
   "cell_type": "code",
   "execution_count": 54,
   "id": "fa18cca6",
   "metadata": {},
   "outputs": [],
   "source": [
    "# maj_tsa = pd.read_csv(os.path.join(data_dir, 'TSA_vol/TSA_cohort_dcm_info_20221110_anonymized.csv'), sep = ',')"
   ]
  },
  {
   "cell_type": "code",
   "execution_count": 55,
   "id": "b3609ba3",
   "metadata": {},
   "outputs": [],
   "source": [
    "# maj_tsa = maj_tsa.rename(columns= {'SubCode' : 'subject_id'})"
   ]
  },
  {
   "cell_type": "code",
   "execution_count": 56,
   "id": "3da790e4",
   "metadata": {},
   "outputs": [],
   "source": [
    "# infos_TSA = maj_tsa[['subject_id', 'patient_weight']].merge(infos_TSA,on = 'subject_id', suffixes = ('', '2'))"
   ]
  },
  {
   "cell_type": "code",
   "execution_count": 57,
   "id": "846c75c8",
   "metadata": {},
   "outputs": [],
   "source": [
    "# infos_TSA = infos_TSA[(infos_TSA.age_at_scan > 6) & (infos_TSA.age_at_scan < 16)]"
   ]
  },
  {
   "cell_type": "markdown",
   "id": "e0b2a75d",
   "metadata": {},
   "source": [
    "Load QC"
   ]
  },
  {
   "cell_type": "code",
   "execution_count": 58,
   "id": "230c2e04",
   "metadata": {},
   "outputs": [],
   "source": [
    "qc_alex = pd.read_csv(os.path.join(data_dir, 'TSA_vol/Imagerie_QC.csv'), sep = ';')"
   ]
  },
  {
   "cell_type": "code",
   "execution_count": 59,
   "id": "386ea23e",
   "metadata": {},
   "outputs": [],
   "source": [
    "# qc_tfe = pd.read_csv(os.path.join(data_dir, 'TSA_vol/qc-fs-6.0.0-tfe_20171002.txt'), sep = '\\t')\n",
    "# qc_iso = pd.read_csv(os.path.join(data_dir, 'TSA_vol/qc-fs-6.0.0-isotrope_20171009.txt'), sep = '\\t')\n",
    "# iso_fail = qc_iso[qc_iso.QC <= 1][['Subject', 'QC']]\n",
    "# tfe_fail = qc_tfe[qc_tfe.QC <= 1][['Subject', 'QC']]"
   ]
  },
  {
   "cell_type": "code",
   "execution_count": 60,
   "id": "d4769e13",
   "metadata": {},
   "outputs": [],
   "source": [
    "QC = pd.read_csv(os.path.join(data_dir, 'QC_trio.csv'), sep = ';', on_bad_lines= 'skip')"
   ]
  },
  {
   "cell_type": "code",
   "execution_count": 61,
   "id": "0e3acc9e",
   "metadata": {},
   "outputs": [],
   "source": [
    "QC.BIDS = QC.BIDS.str.lower()"
   ]
  },
  {
   "cell_type": "code",
   "execution_count": 62,
   "id": "a7fe0778",
   "metadata": {},
   "outputs": [],
   "source": [
    "QC = QC.dropna(subset = 'QC')\n",
    "qc_alex = qc_alex.dropna(subset = 'QC')"
   ]
  },
  {
   "cell_type": "code",
   "execution_count": 63,
   "id": "07537289",
   "metadata": {},
   "outputs": [],
   "source": [
    "QC = QC[~(QC.BIDS.isin(qc_alex.BIDS))]"
   ]
  },
  {
   "cell_type": "code",
   "execution_count": 64,
   "id": "2bfc4d9b",
   "metadata": {},
   "outputs": [],
   "source": [
    "QC = pd.concat([QC, qc_alex])"
   ]
  },
  {
   "cell_type": "code",
   "execution_count": 65,
   "id": "cc0a72b0",
   "metadata": {},
   "outputs": [],
   "source": [
    "QC.session = QC.session.replace(np.nan, 1)"
   ]
  },
  {
   "cell_type": "code",
   "execution_count": 66,
   "id": "cad8f917",
   "metadata": {},
   "outputs": [],
   "source": [
    "QC.loc[495, 'session'] = 2"
   ]
  },
  {
   "cell_type": "code",
   "execution_count": 67,
   "id": "a1c682c3",
   "metadata": {},
   "outputs": [],
   "source": [
    "# bids_f = QC[(QC.QC == 'F') | (QC.QC == 'g') | (QC.QC == 'M')][['BIDS', 'session', 'Protocole']]"
   ]
  },
  {
   "cell_type": "code",
   "execution_count": 68,
   "id": "8ed4e45a",
   "metadata": {},
   "outputs": [],
   "source": [
    "bids_f = QC[(QC.QC == 'P')| (QC.QC == 'M')][['BIDS', 'session', 'Protocole', 'QC']]"
   ]
  },
  {
   "cell_type": "code",
   "execution_count": 69,
   "id": "669b4001",
   "metadata": {},
   "outputs": [],
   "source": [
    "ses = []\n",
    "for i in bids_f['session']:\n",
    "    if (i is np.nan):\n",
    "        print(i)\n",
    "    else:   \n",
    "        ses.append(str(i).split('.')[0])\n",
    "    \n",
    "bids_f['ses'] = ses\n",
    "bids_f = bids_f.replace({np.nan : '1'})"
   ]
  },
  {
   "cell_type": "code",
   "execution_count": 70,
   "id": "f379e55a",
   "metadata": {},
   "outputs": [],
   "source": [
    "bids_f['Subject'] = bids_f['BIDS'].astype(str)+'_ses-0'+bids_f['ses'].astype(str) "
   ]
  },
  {
   "cell_type": "code",
   "execution_count": 71,
   "id": "383c1fad",
   "metadata": {},
   "outputs": [],
   "source": [
    "bids_f_iso = bids_f[(bids_f.Protocole == 'ISO') | (bids_f.Protocole == 'isotrope')\n",
    "                    | (bids_f.Protocole == 'isot')]"
   ]
  },
  {
   "cell_type": "code",
   "execution_count": 72,
   "id": "17f52718",
   "metadata": {},
   "outputs": [],
   "source": [
    "bids_f_tfe  = bids_f[(bids_f.Protocole == 'TFE') | (bids_f.Protocole == 'tfe')]"
   ]
  },
  {
   "cell_type": "code",
   "execution_count": 73,
   "id": "35aa2d67",
   "metadata": {},
   "outputs": [],
   "source": [
    "bids_f_iso = bids_f_iso[~ (bids_f_iso.BIDS == 'sub-0361')]"
   ]
  },
  {
   "cell_type": "markdown",
   "id": "ceec4556",
   "metadata": {},
   "source": [
    "Volumes Vlob"
   ]
  },
  {
   "cell_type": "code",
   "execution_count": 74,
   "id": "31d7507f",
   "metadata": {},
   "outputs": [],
   "source": [
    "# cv_iso = pd.read_csv(os.path.join(data_dir, 'TSA_vol/volumes-vlob-iso.txt'), sep = '\\t')\n",
    "\n",
    "# cv_tfe = pd.read_csv(os.path.join(data_dir, 'TSA_vol/volumes-vlob-tfe.txt'), sep = '\\t')\n",
    "\n",
    "# cv_iso.Subject = cv_iso.Subject.str.split('.', expand = True)[0]\n",
    "# cv_tfe.Subject = cv_tfe.Subject.str.split('.', expand = True)[0]\n",
    "\n",
    "# cv_iso['Protocole'] = 'ISO'\n",
    "# cv_tfe['Protocole'] = 'TFE'\n",
    "\n",
    "# cv_iso = cv_iso[~(cv_iso.Subject.isin(cv_tfe.Subject))]\n",
    "# cv_iso = cv_iso[(cv_iso.Subject.isin(bids_f_iso.Subject))]\n",
    "# cv_tfe = cv_tfe[(cv_tfe.Subject.isin(bids_f_tfe.Subject))]\n",
    "# cv = pd.concat([cv_iso, cv_tfe])"
   ]
  },
  {
   "cell_type": "code",
   "execution_count": 75,
   "id": "c16114d5",
   "metadata": {},
   "outputs": [],
   "source": [
    "# cv['participant_id'] = cv.Subject.str.split('_', expand = True)[0].str.split('-', expand = True)[1].str.lstrip('0')\n",
    "# cv['participant_id'] = cv['participant_id'].astype(int)"
   ]
  },
  {
   "cell_type": "markdown",
   "id": "5d8ba7bf",
   "metadata": {},
   "source": [
    "Volumes"
   ]
  },
  {
   "cell_type": "code",
   "execution_count": 76,
   "id": "8338c81d",
   "metadata": {},
   "outputs": [],
   "source": [
    "# Load ISO volume\n",
    "vol_tsa_iso = pd.read_csv(os.path.join(data_dir, 'TSA_vol/fs-7.2.0-iso.aseg.csv'), sep = '\\t')\n",
    "\n",
    "# Load TFE volume\n",
    "vol_tsa_tfe = pd.read_csv(os.path.join(data_dir, 'TSA_vol/fs-7.2.0-tfe.aseg.csv'), sep = '\\t')"
   ]
  },
  {
   "cell_type": "code",
   "execution_count": 77,
   "id": "2a033688",
   "metadata": {},
   "outputs": [],
   "source": [
    "vol_tsa_iso = vol_tsa_iso.rename(columns= {'Measure:volume':'Subject'})\n",
    "vol_tsa_tfe = vol_tsa_tfe.rename(columns= {'Measure:volume':'Subject'})"
   ]
  },
  {
   "cell_type": "code",
   "execution_count": 78,
   "id": "c5843ef4",
   "metadata": {
    "scrolled": false
   },
   "outputs": [],
   "source": [
    "vol_tsa_iso = vol_tsa_iso[(vol_tsa_iso.Subject.isin(bids_f_iso.Subject))]"
   ]
  },
  {
   "cell_type": "code",
   "execution_count": 79,
   "id": "f818916d",
   "metadata": {
    "scrolled": true
   },
   "outputs": [],
   "source": [
    "# vol_tsa_iso = vol_tsa_iso.merge(bids_f_iso, on = 'Subject')\n",
    "# vol_tsa_tfe = vol_tsa_tfe.merge(bids_f_tfe, on = 'Subject')"
   ]
  },
  {
   "cell_type": "code",
   "execution_count": 80,
   "id": "310e031e",
   "metadata": {},
   "outputs": [],
   "source": [
    "vol_tsa_tfe = vol_tsa_tfe[(vol_tsa_tfe.Subject.isin(bids_f_tfe.Subject))]"
   ]
  },
  {
   "cell_type": "code",
   "execution_count": 81,
   "id": "e47c0e00",
   "metadata": {},
   "outputs": [],
   "source": [
    "vol_tsa_iso= vol_tsa_iso[~(vol_tsa_iso.Subject.isin(vol_tsa_tfe.Subject))]"
   ]
  },
  {
   "cell_type": "code",
   "execution_count": 82,
   "id": "e64f1c4d",
   "metadata": {},
   "outputs": [],
   "source": [
    "vol_tsa_iso['Protocole'] = 'ISO'\n",
    "vol_tsa_tfe['Protocole'] = 'TFE'"
   ]
  },
  {
   "cell_type": "code",
   "execution_count": 83,
   "id": "88c42292",
   "metadata": {},
   "outputs": [],
   "source": [
    "vol_tsa = pd.concat([vol_tsa_iso, vol_tsa_tfe])"
   ]
  },
  {
   "cell_type": "code",
   "execution_count": 84,
   "id": "0eca4656",
   "metadata": {
    "scrolled": false
   },
   "outputs": [],
   "source": [
    "participants = []\n",
    "for i in vol_tsa['Subject']:\n",
    "    participants.append(int(i.split('-')[1].split('_')[0]))\n",
    "    \n",
    "vol_tsa['participant_id'] = participants"
   ]
  },
  {
   "cell_type": "code",
   "execution_count": 85,
   "id": "a20818c5",
   "metadata": {},
   "outputs": [],
   "source": [
    "vol_tsa = vol_tsa.drop_duplicates(subset= 'Subject', keep = 'first')"
   ]
  },
  {
   "cell_type": "markdown",
   "id": "a7861b39",
   "metadata": {},
   "source": [
    "Surface area"
   ]
  },
  {
   "cell_type": "code",
   "execution_count": 86,
   "id": "611402ad",
   "metadata": {},
   "outputs": [],
   "source": [
    "rh_area_iso = pd.read_csv(os.path.join(data_dir, 'TSA_vol/fs-7.2.0-iso.rh.area.csv'), sep = '\\t')\n",
    "lh_area_iso = pd.read_csv(os.path.join(data_dir, 'TSA_vol/fs-7.2.0-iso.lh.area.csv'), sep = '\\t')\n",
    "rh_area_tfe = pd.read_csv(os.path.join(data_dir, 'TSA_vol/fs-7.2.0-tfe.rh.area.csv'), sep = '\\t')\n",
    "lh_area_tfe = pd.read_csv(os.path.join(data_dir, 'TSA_vol/fs-7.2.0-tfe.lh.area.csv'), sep = '\\t')"
   ]
  },
  {
   "cell_type": "code",
   "execution_count": 87,
   "id": "8dbf0187",
   "metadata": {},
   "outputs": [],
   "source": [
    "area_iso = lh_area_iso.merge(rh_area_iso.rename(columns={'rh.aparc.area': 'lh.aparc.area'}), on ='lh.aparc.area')"
   ]
  },
  {
   "cell_type": "code",
   "execution_count": 88,
   "id": "c9e3cf79",
   "metadata": {},
   "outputs": [],
   "source": [
    "area_tfe = lh_area_tfe.merge(rh_area_tfe.rename(columns={'rh.aparc.area': 'lh.aparc.area'}), on ='lh.aparc.area')"
   ]
  },
  {
   "cell_type": "code",
   "execution_count": 89,
   "id": "856d4a14",
   "metadata": {},
   "outputs": [],
   "source": [
    "area_iso = area_iso.rename(columns= {'lh.aparc.area' : 'Subject'})\n",
    "area_tfe = area_tfe.rename(columns= {'lh.aparc.area' : 'Subject'})"
   ]
  },
  {
   "cell_type": "code",
   "execution_count": 90,
   "id": "944f38f9",
   "metadata": {
    "scrolled": false
   },
   "outputs": [],
   "source": [
    "area_iso = area_iso[(area_iso.Subject.isin(bids_f_iso.Subject))]"
   ]
  },
  {
   "cell_type": "code",
   "execution_count": 91,
   "id": "9902e38d",
   "metadata": {},
   "outputs": [],
   "source": [
    "area_tfe = area_tfe[(area_tfe.Subject.isin(bids_f_tfe.Subject))]"
   ]
  },
  {
   "cell_type": "code",
   "execution_count": 92,
   "id": "7c7aa714",
   "metadata": {},
   "outputs": [],
   "source": [
    "area_iso= area_iso[~(area_iso.Subject.isin(area_tfe.Subject))]"
   ]
  },
  {
   "cell_type": "code",
   "execution_count": 93,
   "id": "13ca1852",
   "metadata": {},
   "outputs": [],
   "source": [
    "area_iso['Protocole'] = 'ISO'\n",
    "area_tfe['Protocole'] = 'TFE'"
   ]
  },
  {
   "cell_type": "code",
   "execution_count": 94,
   "id": "c3bca2fb",
   "metadata": {},
   "outputs": [],
   "source": [
    "area_tsa = pd.concat([area_iso, area_tfe])"
   ]
  },
  {
   "cell_type": "code",
   "execution_count": 95,
   "id": "9a8f08c4",
   "metadata": {
    "scrolled": false
   },
   "outputs": [],
   "source": [
    "participants = []\n",
    "for i in area_tsa['Subject']:\n",
    "    participants.append(int(i.split('-')[1].split('_')[0]))\n",
    "    \n",
    "area_tsa['participant_id'] = participants"
   ]
  },
  {
   "cell_type": "code",
   "execution_count": 96,
   "id": "ff76f857",
   "metadata": {},
   "outputs": [],
   "source": [
    "area_tsa = area_tsa.drop_duplicates(subset= 'Subject', keep = 'first')"
   ]
  },
  {
   "cell_type": "markdown",
   "id": "7b6ca2f1",
   "metadata": {},
   "source": [
    "Cortical thickness"
   ]
  },
  {
   "cell_type": "code",
   "execution_count": 97,
   "id": "62db0f65",
   "metadata": {},
   "outputs": [],
   "source": [
    "rh_ct_iso = pd.read_csv(os.path.join(data_dir, 'TSA_vol/fs-7.2.0-iso.rh.thickness.csv'), sep = '\\t')\n",
    "lh_ct_iso = pd.read_csv(os.path.join(data_dir, 'TSA_vol/fs-7.2.0-iso.lh.thickness.csv'), sep = '\\t')\n",
    "rh_ct_tfe = pd.read_csv(os.path.join(data_dir, 'TSA_vol/fs-7.2.0-tfe.rh.thickness.csv'), sep = '\\t')\n",
    "lh_ct_tfe = pd.read_csv(os.path.join(data_dir, 'TSA_vol/fs-7.2.0-tfe.lh.thickness.csv'), sep = '\\t')"
   ]
  },
  {
   "cell_type": "code",
   "execution_count": 98,
   "id": "20b5c1cc",
   "metadata": {},
   "outputs": [],
   "source": [
    "ct_iso = lh_ct_iso.merge(rh_ct_iso.rename(columns={'rh.aparc.thickness': 'lh.aparc.thickness'}), on ='lh.aparc.thickness')"
   ]
  },
  {
   "cell_type": "code",
   "execution_count": 99,
   "id": "30ffdec3",
   "metadata": {},
   "outputs": [],
   "source": [
    "ct_tfe = lh_ct_tfe.merge(rh_ct_tfe.rename(columns={'rh.aparc.thickness': 'lh.aparc.thickness'}), on ='lh.aparc.thickness')"
   ]
  },
  {
   "cell_type": "code",
   "execution_count": 100,
   "id": "cf2d66bb",
   "metadata": {},
   "outputs": [],
   "source": [
    "ct_iso = ct_iso.rename(columns={'lh.aparc.thickness':'Subject'})\n",
    "ct_tfe = ct_tfe.rename(columns={'lh.aparc.thickness':'Subject'})"
   ]
  },
  {
   "cell_type": "code",
   "execution_count": 101,
   "id": "55628746",
   "metadata": {
    "scrolled": false
   },
   "outputs": [],
   "source": [
    "ct_iso = ct_iso[(ct_iso.Subject.isin(bids_f_iso.Subject))]"
   ]
  },
  {
   "cell_type": "code",
   "execution_count": 102,
   "id": "20eb8cba",
   "metadata": {},
   "outputs": [],
   "source": [
    "ct_tfe = ct_tfe[(ct_tfe.Subject.isin(bids_f_tfe.Subject))]"
   ]
  },
  {
   "cell_type": "code",
   "execution_count": 103,
   "id": "4ca33fd4",
   "metadata": {},
   "outputs": [],
   "source": [
    "ct_iso= ct_iso[~(ct_iso.Subject.isin(ct_tfe.Subject))]"
   ]
  },
  {
   "cell_type": "code",
   "execution_count": 104,
   "id": "5c641481",
   "metadata": {},
   "outputs": [],
   "source": [
    "ct_iso['Protocole'] = 'ISO'\n",
    "ct_tfe['Protocole'] = 'TFE'"
   ]
  },
  {
   "cell_type": "code",
   "execution_count": 105,
   "id": "fa5cfbbc",
   "metadata": {},
   "outputs": [],
   "source": [
    "ct_tsa = pd.concat([ct_iso, ct_tfe])"
   ]
  },
  {
   "cell_type": "code",
   "execution_count": 106,
   "id": "9a55bc25",
   "metadata": {
    "scrolled": false
   },
   "outputs": [],
   "source": [
    "participants = []\n",
    "for i in ct_tsa['Subject']:\n",
    "    participants.append(int(i.split('-')[1].split('_')[0]))\n",
    "    \n",
    "ct_tsa['participant_id'] = participants"
   ]
  },
  {
   "cell_type": "code",
   "execution_count": 107,
   "id": "48462f3f",
   "metadata": {},
   "outputs": [],
   "source": [
    "ct_tsa = ct_tsa.drop_duplicates(subset= 'Subject', keep = 'first')"
   ]
  },
  {
   "cell_type": "markdown",
   "id": "aefe99e4",
   "metadata": {},
   "source": [
    "### Merge volume / area / ct"
   ]
  },
  {
   "cell_type": "code",
   "execution_count": 108,
   "id": "62d1790e",
   "metadata": {},
   "outputs": [],
   "source": [
    "df_tsa = area_tsa.merge(ct_tsa, on = ['Subject', 'Protocole'], suffixes=('', '_y')).merge(vol_tsa, on = ['Subject','Protocole'], suffixes=('', '_z'))"
   ]
  },
  {
   "cell_type": "code",
   "execution_count": 109,
   "id": "c5f4e580",
   "metadata": {},
   "outputs": [],
   "source": [
    "# df_tsa = df_tsa.merge(cv, on = ['Subject', 'Protocole'])"
   ]
  },
  {
   "cell_type": "code",
   "execution_count": 110,
   "id": "521911db",
   "metadata": {},
   "outputs": [],
   "source": [
    "# df_tsa = area_tsa.merge(ct_tsa, on = 'participant_id', suffixes=('', '_y')).merge(vol_tsa, on = 'participant_id', suffixes=('', '_z'))"
   ]
  },
  {
   "cell_type": "markdown",
   "id": "27b9f042",
   "metadata": {},
   "source": [
    "### Merge with infos_TSA"
   ]
  },
  {
   "cell_type": "code",
   "execution_count": 111,
   "id": "b092c8f4",
   "metadata": {},
   "outputs": [],
   "source": [
    "zf = []\n",
    "for i in infos_TSA.subject_id:\n",
    "    zf.append('sub-'+str(i).zfill(4)+'_ses-0')\n",
    "    \n",
    "infos_TSA['Subject'] = zf+infos_TSA.session_id.astype(str)"
   ]
  },
  {
   "cell_type": "code",
   "execution_count": 112,
   "id": "8e0f6492",
   "metadata": {},
   "outputs": [],
   "source": [
    "# df_TSA = infos_TSA.merge(cv, on = 'Subject')"
   ]
  },
  {
   "cell_type": "code",
   "execution_count": 113,
   "id": "dbf4d7ac",
   "metadata": {},
   "outputs": [],
   "source": [
    "df_TSA = infos_TSA.merge(df_tsa,on = 'Subject')"
   ]
  },
  {
   "cell_type": "code",
   "execution_count": 114,
   "id": "2534ce19",
   "metadata": {},
   "outputs": [],
   "source": [
    "df_TSA['participant_id'] = df_TSA.Subject.str.split('-', expand = True)[1].str.split('_', expand = True)[0].str.lstrip('0')"
   ]
  },
  {
   "cell_type": "code",
   "execution_count": 115,
   "id": "dc29856b",
   "metadata": {},
   "outputs": [],
   "source": [
    "df_TSA.columns = df_TSA.columns.str.replace('-', '_')"
   ]
  },
  {
   "cell_type": "code",
   "execution_count": 116,
   "id": "150b86ea",
   "metadata": {},
   "outputs": [],
   "source": [
    "df_TSA['scanner'] = df_TSA['machine'].str.upper()"
   ]
  },
  {
   "cell_type": "code",
   "execution_count": 117,
   "id": "3d613855",
   "metadata": {},
   "outputs": [],
   "source": [
    "df_TSA = df_TSA.rename(columns= {'3rd_Ventricle' : 'third_Ventricle',\n",
    "                       '4th_Ventricle' : 'fourth_Ventricle',\n",
    "                        '5th_Ventricle' : 'fifth_Ventricle'})"
   ]
  },
  {
   "cell_type": "markdown",
   "id": "81304894",
   "metadata": {},
   "source": [
    "## ASD Categories"
   ]
  },
  {
   "cell_type": "code",
   "execution_count": 118,
   "id": "6f5a34e3",
   "metadata": {},
   "outputs": [],
   "source": [
    "df_TSA.loc[(df_TSA.ASD == 'Yes') & (df_TSA.Group !=  'Patient'), 'ASD'] = 'Pas_ASD'"
   ]
  },
  {
   "cell_type": "code",
   "execution_count": 119,
   "id": "1ff66bf0",
   "metadata": {},
   "outputs": [],
   "source": [
    "df_TSA.loc[(df_TSA.ASD == 'No') & (df_TSA.Group ==  'Patient'), 'ASD'] = 'TD_Patient'"
   ]
  },
  {
   "cell_type": "markdown",
   "id": "3b23a115",
   "metadata": {},
   "source": [
    "## Export TSA"
   ]
  },
  {
   "cell_type": "code",
   "execution_count": 120,
   "id": "437a9d6a",
   "metadata": {},
   "outputs": [],
   "source": [
    "df_TSA.to_csv(os.path.join(data_dir, 'Outputs/df_TSA.csv'), index = False)"
   ]
  },
  {
   "cell_type": "markdown",
   "id": "7a7a049d",
   "metadata": {},
   "source": [
    "# Merge TCA + TSA"
   ]
  },
  {
   "cell_type": "code",
   "execution_count": 121,
   "id": "730df275",
   "metadata": {},
   "outputs": [],
   "source": [
    "df_TSA = df_TSA.drop(columns= 'participant_id_y')"
   ]
  },
  {
   "cell_type": "code",
   "execution_count": 122,
   "id": "d0c1c78a",
   "metadata": {},
   "outputs": [],
   "source": [
    "df_tsa_tca = pd.concat([df_TSA, df_TCA])"
   ]
  },
  {
   "cell_type": "markdown",
   "id": "137fcc4a",
   "metadata": {},
   "source": [
    "### Clean NA"
   ]
  },
  {
   "cell_type": "code",
   "execution_count": 123,
   "id": "db6637be",
   "metadata": {},
   "outputs": [],
   "source": [
    "df_tsa_tca = df_tsa_tca.dropna(subset=['Sex', 'age_at_scan', 'ASD', 'scanner'])"
   ]
  },
  {
   "cell_type": "markdown",
   "id": "d5c8b2b2",
   "metadata": {},
   "source": [
    "### Filter 1.5 T / 3 T\n"
   ]
  },
  {
   "cell_type": "code",
   "execution_count": 124,
   "id": "5587d008",
   "metadata": {},
   "outputs": [],
   "source": [
    "df_tsa_tca = df_tsa_tca[df_tsa_tca.scanner != 'INGENIA_3T']"
   ]
  },
  {
   "cell_type": "code",
   "execution_count": 125,
   "id": "ef7ac754",
   "metadata": {},
   "outputs": [],
   "source": [
    "df_tsa_tca = df_tsa_tca[~((df_tsa_tca['magnetic_field_strength'] == '3')|(df_tsa_tca['machine'] == 'Ingenia_3T'))]"
   ]
  },
  {
   "cell_type": "markdown",
   "id": "bf2ea423",
   "metadata": {},
   "source": [
    "### Filter on age"
   ]
  },
  {
   "cell_type": "code",
   "execution_count": 126,
   "id": "e6858c60",
   "metadata": {},
   "outputs": [],
   "source": [
    "df_tsa_tca = df_tsa_tca[(df_tsa_tca['age_at_scan'] > 6) & (df_tsa_tca['age_at_scan'] < 16)]"
   ]
  },
  {
   "cell_type": "code",
   "execution_count": 127,
   "id": "59f3a159",
   "metadata": {},
   "outputs": [],
   "source": [
    "df_tsa_tca = df_tsa_tca.drop_duplicates('participant_id')"
   ]
  },
  {
   "cell_type": "code",
   "execution_count": 128,
   "id": "dfb2ddfb",
   "metadata": {},
   "outputs": [
    {
     "data": {
      "text/html": [
       "<div>\n",
       "<style scoped>\n",
       "    .dataframe tbody tr th:only-of-type {\n",
       "        vertical-align: middle;\n",
       "    }\n",
       "\n",
       "    .dataframe tbody tr th {\n",
       "        vertical-align: top;\n",
       "    }\n",
       "\n",
       "    .dataframe thead th {\n",
       "        text-align: right;\n",
       "    }\n",
       "</style>\n",
       "<table border=\"1\" class=\"dataframe\">\n",
       "  <thead>\n",
       "    <tr style=\"text-align: right;\">\n",
       "      <th></th>\n",
       "      <th></th>\n",
       "      <th>Count</th>\n",
       "    </tr>\n",
       "    <tr>\n",
       "      <th>Sex</th>\n",
       "      <th>ASD</th>\n",
       "      <th></th>\n",
       "    </tr>\n",
       "  </thead>\n",
       "  <tbody>\n",
       "    <tr>\n",
       "      <th rowspan=\"8\" valign=\"top\">Female</th>\n",
       "      <th>No</th>\n",
       "      <td>37</td>\n",
       "    </tr>\n",
       "    <tr>\n",
       "      <th>Pas_ASD</th>\n",
       "      <td>5</td>\n",
       "    </tr>\n",
       "    <tr>\n",
       "      <th>Relative</th>\n",
       "      <td>16</td>\n",
       "    </tr>\n",
       "    <tr>\n",
       "      <th>TCA</th>\n",
       "      <td>3</td>\n",
       "    </tr>\n",
       "    <tr>\n",
       "      <th>TCA_ac</th>\n",
       "      <td>34</td>\n",
       "    </tr>\n",
       "    <tr>\n",
       "      <th>TCA_pr</th>\n",
       "      <td>43</td>\n",
       "    </tr>\n",
       "    <tr>\n",
       "      <th>TD_Patient</th>\n",
       "      <td>1</td>\n",
       "    </tr>\n",
       "    <tr>\n",
       "      <th>Yes</th>\n",
       "      <td>49</td>\n",
       "    </tr>\n",
       "    <tr>\n",
       "      <th rowspan=\"7\" valign=\"top\">Male</th>\n",
       "      <th>No</th>\n",
       "      <td>49</td>\n",
       "    </tr>\n",
       "    <tr>\n",
       "      <th>Pas_ASD</th>\n",
       "      <td>3</td>\n",
       "    </tr>\n",
       "    <tr>\n",
       "      <th>Relative</th>\n",
       "      <td>14</td>\n",
       "    </tr>\n",
       "    <tr>\n",
       "      <th>TCA</th>\n",
       "      <td>1</td>\n",
       "    </tr>\n",
       "    <tr>\n",
       "      <th>TCA_ac</th>\n",
       "      <td>6</td>\n",
       "    </tr>\n",
       "    <tr>\n",
       "      <th>TCA_pr</th>\n",
       "      <td>6</td>\n",
       "    </tr>\n",
       "    <tr>\n",
       "      <th>Yes</th>\n",
       "      <td>240</td>\n",
       "    </tr>\n",
       "  </tbody>\n",
       "</table>\n",
       "</div>"
      ],
      "text/plain": [
       "                   Count\n",
       "Sex    ASD              \n",
       "Female No             37\n",
       "       Pas_ASD         5\n",
       "       Relative       16\n",
       "       TCA             3\n",
       "       TCA_ac         34\n",
       "       TCA_pr         43\n",
       "       TD_Patient      1\n",
       "       Yes            49\n",
       "Male   No             49\n",
       "       Pas_ASD         3\n",
       "       Relative       14\n",
       "       TCA             1\n",
       "       TCA_ac          6\n",
       "       TCA_pr          6\n",
       "       Yes           240"
      ]
     },
     "execution_count": 128,
     "metadata": {},
     "output_type": "execute_result"
    }
   ],
   "source": [
    "df_tsa_tca.groupby(['Sex', 'ASD']).size().to_frame('Count')"
   ]
  },
  {
   "cell_type": "markdown",
   "id": "57cac2fa",
   "metadata": {},
   "source": [
    "## Export TSA + TCA"
   ]
  },
  {
   "cell_type": "code",
   "execution_count": null,
   "id": "80463366",
   "metadata": {},
   "outputs": [],
   "source": [
    "thick = [col for col in df_tsa_tca.columns if '_thickness' in col]\n",
    "thick.remove('lh_MeanThickness_thickness')\n",
    "thick.remove('rh_MeanThickness_thickness')\n",
    "len(thick)\n",
    "\n",
    "df_tsa_tca['meanCT'] = df_tsa_tca[['lh_MeanThickness_thickness', 'rh_MeanThickness_thickness']].mean(axis=1)"
   ]
  },
  {
   "cell_type": "code",
   "execution_count": 588,
   "id": "50057a7b",
   "metadata": {},
   "outputs": [],
   "source": [
    "arean  = [col for col in df_tsa_tca.columns if '_area' in col]\n",
    "arean.remove('rh_WhiteSurfArea_area')\n",
    "arean.remove('lh_WhiteSurfArea_area')\n",
    "arean.remove('Left_Accumbens_area'),\n",
    "arean.remove('Right_Accumbens_area')\n",
    "\n",
    "df_tsa_tca['totalSA'] = df_tsa_tca[arean].sum(axis = 1)"
   ]
  },
  {
   "cell_type": "code",
   "execution_count": 589,
   "id": "7955facc",
   "metadata": {},
   "outputs": [],
   "source": [
    "df_tsa_tca.to_csv(os.path.join(data_dir, 'Outputs/df_tsa_tca.csv'))"
   ]
  },
  {
   "cell_type": "markdown",
   "id": "6a3e8ad1",
   "metadata": {},
   "source": [
    "(Optional) Add ARFID diag"
   ]
  },
  {
   "cell_type": "code",
   "execution_count": 386,
   "id": "e657e982",
   "metadata": {},
   "outputs": [],
   "source": [
    "df_tsa_tca.loc[df_tsa_tca.principal_diag == 2, 'ASD'] = 'T_ARFID'"
   ]
  },
  {
   "cell_type": "code",
   "execution_count": null,
   "id": "5d1ca58a",
   "metadata": {},
   "outputs": [],
   "source": [
    "df_tsa_tca.to_csv(os.path.join(data_dir, 'Outputs/df_tsa_tca.csv'))"
   ]
  }
 ],
 "metadata": {
  "kernelspec": {
   "display_name": "Python 3 (ipykernel)",
   "language": "python",
   "name": "python3"
  },
  "language_info": {
   "codemirror_mode": {
    "name": "ipython",
    "version": 3
   },
   "file_extension": ".py",
   "mimetype": "text/x-python",
   "name": "python",
   "nbconvert_exporter": "python",
   "pygments_lexer": "ipython3",
   "version": "3.9.7"
  }
 },
 "nbformat": 4,
 "nbformat_minor": 5
}
