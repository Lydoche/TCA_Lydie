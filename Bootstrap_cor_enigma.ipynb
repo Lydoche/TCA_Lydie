{
 "cells": [
  {
   "cell_type": "markdown",
   "id": "f6161a25",
   "metadata": {},
   "source": [
    "## Correlation betas AN with Enigma"
   ]
  },
  {
   "cell_type": "code",
   "execution_count": 1,
   "id": "4472c7b4",
   "metadata": {},
   "outputs": [],
   "source": [
    "import os\n",
    "import pandas as pd\n",
    "import numpy as np\n",
    "import seaborn as sns\n",
    "from matplotlib import pyplot as plt\n",
    "from scipy import stats\n",
    "from sklearn import svm\n",
    "from sklearn.metrics import classification_report\n",
    "from sklearn.model_selection import train_test_split\n",
    "from enigmatoolbox.utils.parcellation import parcel_to_surface\n",
    "from enigmatoolbox.plotting import plot_subcortical\n",
    "from enigmatoolbox.plotting import plot_cortical\n",
    "from sklearn.linear_model import LinearRegression\n",
    "import random"
   ]
  },
  {
   "cell_type": "code",
   "execution_count": 2,
   "id": "d579f8e8",
   "metadata": {},
   "outputs": [],
   "source": [
    "data_dir = '/Users/ltran/Documents/Data/'"
   ]
  },
  {
   "cell_type": "code",
   "execution_count": 3,
   "id": "62dc4d8c",
   "metadata": {},
   "outputs": [],
   "source": [
    "enig = pd.read_csv(os.path.join(data_dir, 'TCA_vol/enigma_CT_SA_ASD.csv'), sep = ';')"
   ]
  },
  {
   "cell_type": "code",
   "execution_count": null,
   "id": "d9baed59",
   "metadata": {},
   "outputs": [],
   "source": [
    "df = pd.read_csv(os.path.join(data_dir, 'Outputs/df_tsa_tca.csv'), sep = ',')"
   ]
  },
  {
   "cell_type": "code",
   "execution_count": null,
   "id": "52ff626c",
   "metadata": {},
   "outputs": [],
   "source": [
    "# Extract ROIs names\n",
    "thick = [col for col in df.columns if '_thickness' in col]\n",
    "thick.remove('lh_MeanThickness_thickness')\n",
    "thick.remove('rh_MeanThickness_thickness')\n",
    "len(thick)"
   ]
  },
  {
   "cell_type": "code",
   "execution_count": null,
   "id": "ec4943a6",
   "metadata": {},
   "outputs": [],
   "source": [
    "# Redfine labels\n",
    "\n",
    "\n",
    "df.loc[df.ASD == 'Relative', 'ASD'] = 'No'\n",
    "\n",
    "\n",
    "\n",
    "df.loc[df.ASD == 'TCA_pr', 'ASD'] = 'TCA'\n",
    "df.loc[df.ASD == 'TCA_ac', 'ASD'] = 'TCA'\n",
    "\n",
    "# Select only TCA and TD\n",
    "df = df[df.ASD.isin(['TCA', 'No'])]"
   ]
  },
  {
   "cell_type": "code",
   "execution_count": 4,
   "id": "f7ff06a7",
   "metadata": {},
   "outputs": [
    {
     "data": {
      "text/plain": [
       "<seaborn.axisgrid.FacetGrid at 0x7fa8a8117ee0>"
      ]
     },
     "execution_count": 4,
     "metadata": {},
     "output_type": "execute_result"
    },
    {
     "data": {
      "image/png": "[encoded data removed]",
      "text/plain": [
       "<Figure size 360x360 with 1 Axes>"
      ]
     },
     "metadata": {
      "needs_background": "light"
     },
     "output_type": "display_data"
    }
   ],
   "source": [
    "# Bootstrap correlations\n",
    "r = []\n",
    "b_tca = []\n",
    "for i in range(500):\n",
    "    temp = df.reset_index(drop = True)\n",
    "    temp_tca = pd.concat([temp.drop(columns='ASD'), temp['ASD'].sample(frac = 1 ).reset_index(drop = True)], axis = 1)\n",
    "    X = temp_tca[['age_at_scan', 'Sex', 'Protocole', 'scanner', 'ASD']]\n",
    "    X = pd.get_dummies(X, columns=['Sex', 'Protocole', 'scanner', 'ASD'], drop_first=True)\n",
    "    X = pd.concat([np.power(temp_tca.age_at_scan, 2), X], axis = 1)\n",
    "    Y = temp_tca[thick]\n",
    "    \n",
    "    \n",
    "    \n",
    "    reg = LinearRegression().fit(X, Y)\n",
    "    \n",
    "\n",
    "    beta_tca = pd.DataFrame(reg.coef_, columns=['age2', 'age_at_scan', 'Sex', 'Protocole', 'scanner', 'ASD'])['ASD']\n",
    "    b_tca.append(beta_tca)\n",
    "\n",
    "    r.append(stats.pearsonr(beta_tca, enig['CT_withGlobal'])[0])\n",
    "\n",
    "sns.displot(r)"
   ]
  }
 ],
 "metadata": {
  "kernelspec": {
   "display_name": "Python 3 (ipykernel)",
   "language": "python",
   "name": "python3"
  },
  "language_info": {
   "codemirror_mode": {
    "name": "ipython",
    "version": 3
   },
   "file_extension": ".py",
   "mimetype": "text/x-python",
   "name": "python",
   "nbconvert_exporter": "python",
   "pygments_lexer": "ipython3",
   "version": "3.9.7"
  }
 },
 "nbformat": 4,
 "nbformat_minor": 5
}
